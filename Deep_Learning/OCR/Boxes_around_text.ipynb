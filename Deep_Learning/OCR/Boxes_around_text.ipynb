{
 "cells": [
  {
   "attachments": {},
   "cell_type": "markdown",
   "metadata": {},
   "source": [
    "## Import necessary libraries"
   ]
  },
  {
   "cell_type": "code",
   "execution_count": 2,
   "metadata": {},
   "outputs": [],
   "source": [
    "import cv2\n",
    "import pytesseract\n",
    "from pytesseract import Output\n",
    "import matplotlib.pyplot as plt"
   ]
  },
  {
   "attachments": {},
   "cell_type": "markdown",
   "metadata": {},
   "source": [
    "## Load the image"
   ]
  },
  {
   "cell_type": "code",
   "execution_count": 3,
   "metadata": {},
   "outputs": [],
   "source": [
    "img = cv2.imread(\"D:\\Artificial_Intelligence\\CHRISTY_SIR\\OCR\\invoice-sample.jpg\")"
   ]
  },
  {
   "attachments": {},
   "cell_type": "markdown",
   "metadata": {},
   "source": [
    "## Display the image"
   ]
  },
  {
   "cell_type": "code",
   "execution_count": 4,
   "metadata": {},
   "outputs": [
    {
     "data": {
      "text/plain": [
       "(-0.5, 834.5, 1149.5, -0.5)"
      ]
     },
     "execution_count": 4,
     "metadata": {},
     "output_type": "execute_result"
    },
    {
     "data": {
      "image/png": "[encoded data removed]",
      "text/plain": [
       "<Figure size 432x288 with 1 Axes>"
      ]
     },
     "metadata": {
      "needs_background": "light"
     },
     "output_type": "display_data"
    }
   ],
   "source": [
    "plt.imshow(img)\n",
    "plt.axis(\"off\")"
   ]
  },
  {
   "attachments": {},
   "cell_type": "markdown",
   "metadata": {},
   "source": [
    "## Convert image to data using pytesseract"
   ]
  },
  {
   "cell_type": "code",
   "execution_count": 5,
   "metadata": {},
   "outputs": [
    {
     "name": "stdout",
     "output_type": "stream",
     "text": [
      "dict_keys(['level', 'page_num', 'block_num', 'par_num', 'line_num', 'word_num', 'left', 'top', 'width', 'height', 'conf', 'text'])\n",
      "dict_values([[1, 2, 3, 4, 5, 5, 2, 3, 4, 5, 5, 5, 5, 5, 5, 5, 5, 5, 5, 5, 5, 2, 3, 4, 5, 5, 4, 5, 5, 3, 4, 5, 5, 5, 5, 3, 4, 5, 5, 5, 5, 4, 5, 2, 3, 4, 5, 5, 4, 5, 5, 5, 3, 4, 5, 5, 5, 3, 4, 5, 5, 5, 5, 4, 5, 2, 3, 4, 5, 2, 3, 4, 5, 2, 3, 4, 5, 2, 3, 4, 5, 2, 3, 4, 5, 2, 3, 4, 5, 2, 3, 4, 5, 5, 5, 4, 5, 5, 5, 4, 5, 5, 5, 5, 3, 4, 5, 5, 5, 2, 3, 4, 5, 2, 3, 4, 5, 5, 2, 3, 4, 5, 2, 3, 4, 5, 2, 3, 4, 5, 5, 5, 2, 3, 4, 5, 2, 3, 4, 5, 2, 3, 4, 5, 5, 5, 2, 3, 4, 5, 2, 3, 4, 5, 2, 3, 4, 5, 2, 3, 4, 5, 2, 3, 4, 5, 5, 5, 5, 5, 5, 5, 5, 5, 5, 4, 5, 5, 3, 4, 5, 5, 5, 5, 5, 3, 4, 5, 5, 5, 5, 5, 5, 3, 4, 5, 5, 5, 5, 5, 5, 5, 3, 4, 5, 5, 5, 5, 5, 5, 5, 3, 4, 5, 5, 3, 4, 5, 5, 5, 3, 4, 5, 5, 5, 2, 3, 4, 5, 5, 5, 5, 5], [1, 1, 1, 1, 1, 1, 1, 1, 1, 1, 1, 1, 1, 1, 1, 1, 1, 1, 1, 1, 1, 1, 1, 1, 1, 1, 1, 1, 1, 1, 1, 1, 1, 1, 1, 1, 1, 1, 1, 1, 1, 1, 1, 1, 1, 1, 1, 1, 1, 1, 1, 1, 1, 1, 1, 1, 1, 1, 1, 1, 1, 1, 1, 1, 1, 1, 1, 1, 1, 1, 1, 1, 1, 1, 1, 1, 1, 1, 1, 1, 1, 1, 1, 1, 1, 1, 1, 1, 1, 1, 1, 1, 1, 1, 1, 1, 1, 1, 1, 1, 1, 1, 1, 1, 1, 1, 1, 1, 1, 1, 1, 1, 1, 1, 1, 1, 1, 1, 1, 1, 1, 1, 1, 1, 1, 1, 1, 1, 1, 1, 1, 1, 1, 1, 1, 1, 1, 1, 1, 1, 1, 1, 1, 1, 1, 1, 1, 1, 1, 1, 1, 1, 1, 1, 1, 1, 1, 1, 1, 1, 1, 1, 1, 1, 1, 1, 1, 1, 1, 1, 1, 1, 1, 1, 1, 1, 1, 1, 1, 1, 1, 1, 1, 1, 1, 1, 1, 1, 1, 1, 1, 1, 1, 1, 1, 1, 1, 1, 1, 1, 1, 1, 1, 1, 1, 1, 1, 1, 1, 1, 1, 1, 1, 1, 1, 1, 1, 1, 1, 1, 1, 1, 1, 1, 1, 1, 1, 1, 1, 1, 1, 1, 1], [0, 1, 1, 1, 1, 1, 2, 2, 2, 2, 2, 2, 2, 2, 2, 2, 2, 2, 2, 2, 2, 3, 3, 3, 3, 3, 3, 3, 3, 3, 3, 3, 3, 3, 3, 3, 3, 3, 3, 3, 3, 3, 3, 4, 4, 4, 4, 4, 4, 4, 4, 4, 4, 4, 4, 4, 4, 4, 4, 4, 4, 4, 4, 4, 4, 5, 5, 5, 5, 6, 6, 6, 6, 7, 7, 7, 7, 8, 8, 8, 8, 9, 9, 9, 9, 10, 10, 10, 10, 11, 11, 11, 11, 11, 11, 11, 11, 11, 11, 11, 11, 11, 11, 11, 11, 11, 11, 11, 11, 12, 12, 12, 12, 13, 13, 13, 13, 13, 14, 14, 14, 14, 15, 15, 15, 15, 16, 16, 16, 16, 16, 16, 17, 17, 17, 17, 18, 18, 18, 18, 19, 19, 19, 19, 19, 19, 20, 20, 20, 20, 21, 21, 21, 21, 22, 22, 22, 22, 23, 23, 23, 23, 24, 24, 24, 24, 24, 24, 24, 24, 24, 24, 24, 24, 24, 24, 24, 24, 24, 24, 24, 24, 24, 24, 24, 24, 24, 24, 24, 24, 24, 24, 24, 24, 24, 24, 24, 24, 24, 24, 24, 24, 24, 24, 24, 24, 24, 24, 24, 24, 24, 24, 24, 24, 24, 24, 24, 24, 24, 24, 24, 24, 24, 24, 24, 25, 25, 25, 25, 25, 25, 25, 25], [0, 0, 1, 1, 1, 1, 0, 1, 1, 1, 1, 1, 1, 1, 1, 1, 1, 1, 1, 1, 1, 0, 1, 1, 1, 1, 1, 1, 1, 2, 2, 2, 2, 2, 2, 3, 3, 3, 3, 3, 3, 3, 3, 0, 1, 1, 1, 1, 1, 1, 1, 1, 2, 2, 2, 2, 2, 3, 3, 3, 3, 3, 3, 3, 3, 0, 1, 1, 1, 0, 1, 1, 1, 0, 1, 1, 1, 0, 1, 1, 1, 0, 1, 1, 1, 0, 1, 1, 1, 0, 1, 1, 1, 1, 1, 1, 1, 1, 1, 1, 1, 1, 1, 1, 2, 2, 2, 2, 2, 0, 1, 1, 1, 0, 1, 1, 1, 1, 0, 1, 1, 1, 0, 1, 1, 1, 0, 1, 1, 1, 1, 1, 0, 1, 1, 1, 0, 1, 1, 1, 0, 1, 1, 1, 1, 1, 0, 1, 1, 1, 0, 1, 1, 1, 0, 1, 1, 1, 0, 1, 1, 1, 0, 1, 1, 1, 1, 1, 1, 1, 1, 1, 1, 1, 1, 1, 1, 1, 2, 2, 2, 2, 2, 2, 2, 3, 3, 3, 3, 3, 3, 3, 3, 4, 4, 4, 4, 4, 4, 4, 4, 4, 5, 5, 5, 5, 5, 5, 5, 5, 5, 6, 6, 6, 6, 7, 7, 7, 7, 7, 8, 8, 8, 8, 8, 0, 1, 1, 1, 1, 1, 1, 1], [0, 0, 0, 1, 1, 1, 0, 0, 1, 1, 1, 1, 1, 1, 1, 1, 1, 1, 1, 1, 1, 0, 0, 1, 1, 1, 2, 2, 2, 0, 1, 1, 1, 1, 1, 0, 1, 1, 1, 1, 1, 2, 2, 0, 0, 1, 1, 1, 2, 2, 2, 2, 0, 1, 1, 1, 1, 0, 1, 1, 1, 1, 1, 2, 2, 0, 0, 1, 1, 0, 0, 1, 1, 0, 0, 1, 1, 0, 0, 1, 1, 0, 0, 1, 1, 0, 0, 1, 1, 0, 0, 1, 1, 1, 1, 2, 2, 2, 2, 3, 3, 3, 3, 3, 0, 1, 1, 1, 1, 0, 0, 1, 1, 0, 0, 1, 1, 1, 0, 0, 1, 1, 0, 0, 1, 1, 0, 0, 1, 1, 1, 1, 0, 0, 1, 1, 0, 0, 1, 1, 0, 0, 1, 1, 1, 1, 0, 0, 1, 1, 0, 0, 1, 1, 0, 0, 1, 1, 0, 0, 1, 1, 0, 0, 1, 1, 1, 1, 1, 1, 1, 1, 1, 1, 1, 2, 2, 2, 0, 1, 1, 1, 1, 1, 1, 0, 1, 1, 1, 1, 1, 1, 1, 0, 1, 1, 1, 1, 1, 1, 1, 1, 0, 1, 1, 1, 1, 1, 1, 1, 1, 0, 1, 1, 1, 0, 1, 1, 1, 1, 0, 1, 1, 1, 1, 0, 0, 1, 1, 1, 1, 1, 1], [0, 0, 0, 0, 1, 2, 0, 0, 0, 1, 2, 3, 4, 5, 6, 7, 8, 9, 10, 11, 12, 0, 0, 0, 1, 2, 0, 1, 2, 0, 0, 1, 2, 3, 4, 0, 0, 1, 2, 3, 4, 0, 1, 0, 0, 0, 1, 2, 0, 1, 2, 3, 0, 0, 1, 2, 3, 0, 0, 1, 2, 3, 4, 0, 1, 0, 0, 0, 1, 0, 0, 0, 1, 0, 0, 0, 1, 0, 0, 0, 1, 0, 0, 0, 1, 0, 0, 0, 1, 0, 0, 0, 1, 2, 3, 0, 1, 2, 3, 0, 1, 2, 3, 4, 0, 0, 1, 2, 3, 0, 0, 0, 1, 0, 0, 0, 1, 2, 0, 0, 0, 1, 0, 0, 0, 1, 0, 0, 0, 1, 2, 3, 0, 0, 0, 1, 0, 0, 0, 1, 0, 0, 0, 1, 2, 3, 0, 0, 0, 1, 0, 0, 0, 1, 0, 0, 0, 1, 0, 0, 0, 1, 0, 0, 0, 1, 2, 3, 4, 5, 6, 7, 8, 9, 10, 0, 1, 2, 0, 0, 1, 2, 3, 4, 5, 0, 0, 1, 2, 3, 4, 5, 6, 0, 0, 1, 2, 3, 4, 5, 6, 7, 0, 0, 1, 2, 3, 4, 5, 6, 7, 0, 0, 1, 2, 0, 0, 1, 2, 3, 0, 0, 1, 2, 3, 0, 0, 0, 1, 2, 3, 4, 5], [0, 61, 61, 61, 61, 128, 59, 59, 59, 59, 91, 153, 175, 227, 256, 295, 317, 368, 379, 462, 472, 59, 59, 60, 60, 87, 59, 59, 91, 59, 59, 59, 98, 135, 169, 60, 60, 60, 75, 158, 172, 60, 60, 59, 59, 59, 59, 121, 59, 59, 91, 118, 60, 60, 60, 99, 132, 60, 60, 60, 75, 158, 172, 60, 60, 656, 656, 656, 656, 680, 680, 680, 680, 343, 343, 343, 343, 343, 343, 343, 343, 343, 343, 343, 343, 343, 343, 343, 343, 409, 413, 427, 427, 472, 650, 416, 416, 462, 634, 413, 413, 451, 467, 658, 409, 409, 409, 459, 631, 343, 343, 343, 343, 407, 407, 407, 407, 462, 343, 343, 343, 343, 559, 559, 559, 559, 619, 619, 619, 619, 651, 670, 776, 776, 776, 776, 343, 343, 343, 343, 470, 470, 470, 470, 547, 591, 59, 59, 59, 59, 59, 59, 59, 59, 96, 96, 96, 96, 59, 59, 59, 59, 66, 71, 71, 71, 105, 171, 185, 483, 551, 577, 611, 623, 707, 512, 512, 615, 67, 67, 67, 104, 547, 627, 742, 67, 67, 67, 104, 157, 547, 627, 742, 67, 67, 67, 90, 105, 148, 540, 627, 734, 66, 66, 66, 89, 105, 142, 540, 612, 724, 599, 599, 599, 735, 591, 591, 591, 615, 731, 579, 579, 579, 618, 723, 316, 316, 316, 316, 363, 394, 422, 461], [0, 17, 17, 17, 17, 83, 189, 189, 189, 190, 190, 190, 189, 190, 190, 190, 190, 190, 190, 190, 190, 315, 315, 315, 315, 315, 333, 333, 334, 352, 352, 352, 353, 352, 353, 373, 373, 373, 373, 373, 373, 391, 391, 431, 431, 431, 431, 431, 449, 449, 450, 449, 468, 468, 468, 468, 469, 489, 489, 489, 489, 489, 489, 507, 507, 41, 41, 41, 41, 64, 64, 64, 64, 317, 317, 317, 317, 345, 345, 345, 345, 374, 374, 374, 374, 402, 402, 402, 402, 327, 327, 327, 327, 327, 327, 353, 355, 355, 353, 383, 384, 383, 384, 383, 411, 411, 412, 411, 412, 431, 431, 431, 431, 441, 441, 441, 441, 441, 317, 317, 317, 317, 317, 317, 317, 317, 440, 440, 440, 440, 443, 440, 317, 317, 317, 317, 459, 459, 459, 459, 483, 483, 483, 485, 485, 483, 619, 619, 619, 619, 655, 655, 655, 655, 655, 655, 655, 655, 760, 760, 760, 760, 622, 622, 622, 624, 622, 618, 622, 622, 618, 622, 618, 622, 624, 642, 642, 642, 662, 662, 664, 664, 664, 662, 662, 688, 688, 690, 690, 689, 690, 688, 688, 714, 714, 716, 705, 716, 715, 716, 714, 714, 740, 740, 742, 731, 741, 741, 742, 740, 740, 758, 758, 758, 767, 793, 793, 795, 794, 793, 819, 819, 820, 820, 819, 1076, 1076, 1076, 1076, 1076, 1076, 1076, 1076], [835, 425, 425, 425, 39, 358, 487, 487, 487, 29, 58, 19, 48, 24, 33, 18, 47, 6, 77, 5, 74, 188, 55, 47, 24, 20, 55, 27, 23, 123, 123, 34, 33, 29, 13, 187, 187, 10, 78, 5, 75, 119, 119, 187, 94, 82, 58, 20, 94, 27, 23, 35, 86, 86, 34, 29, 14, 186, 186, 10, 78, 5, 74, 120, 120, 119, 119, 119, 119, 67, 67, 67, 67, 434, 434, 434, 434, 434, 434, 434, 434, 434, 434, 434, 434, 434, 434, 434, 434, 296, 290, 259, 41, 7, 36, 287, 41, 27, 69, 267, 34, 12, 25, 22, 296, 296, 45, 37, 74, 434, 434, 434, 434, 91, 91, 91, 51, 36, 1, 1, 1, 1, 1, 1, 1, 1, 99, 99, 99, 27, 14, 48, 1, 1, 1, 1, 434, 434, 434, 434, 179, 179, 179, 70, 37, 58, 712, 712, 712, 712, 712, 712, 712, 712, 1, 1, 1, 1, 712, 712, 712, 712, 698, 693, 693, 18, 125, 6, 45, 71, 12, 72, 4, 26, 57, 136, 42, 33, 697, 697, 6, 26, 7, 21, 22, 697, 697, 6, 49, 38, 7, 21, 22, 697, 697, 6, 8, 39, 15, 14, 21, 30, 698, 698, 7, 8, 33, 21, 14, 36, 40, 164, 164, 49, 28, 172, 172, 20, 33, 32, 184, 184, 35, 30, 40, 204, 204, 204, 44, 26, 24, 35, 59], [1150, 152, 152, 152, 151, 86, 12, 12, 12, 9, 11, 9, 10, 11, 11, 11, 11, 9, 11, 9, 9, 89, 28, 9, 9, 9, 10, 10, 9, 13, 13, 13, 9, 10, 9, 31, 11, 9, 11, 9, 9, 13, 13, 89, 28, 9, 9, 9, 10, 10, 9, 10, 10, 10, 10, 10, 9, 31, 11, 9, 11, 9, 9, 13, 13, 11, 11, 11, 11, 54, 54, 54, 54, 1, 1, 1, 1, 1, 1, 1, 1, 1, 1, 1, 1, 1, 1, 1, 1, 94, 69, 9, 9, 9, 9, 13, 9, 9, 13, 13, 9, 10, 12, 10, 10, 10, 9, 10, 9, 1, 1, 1, 1, 12, 12, 12, 12, 9, 143, 143, 143, 143, 143, 143, 143, 143, 13, 13, 13, 10, 7, 13, 143, 143, 143, 143, 1, 1, 1, 1, 18, 18, 18, 13, 13, 18, 1, 1, 1, 1, 1, 1, 1, 1, 106, 106, 106, 106, 1, 1, 1, 1, 210, 29, 13, 9, 13, 24, 13, 13, 24, 13, 24, 13, 9, 9, 9, 9, 14, 14, 9, 12, 9, 13, 13, 14, 14, 9, 12, 10, 9, 13, 13, 14, 14, 9, 30, 12, 10, 9, 13, 13, 13, 13, 9, 30, 10, 10, 9, 13, 13, 30, 30, 30, 13, 14, 14, 9, 13, 13, 13, 13, 10, 10, 13, 9, 9, 9, 9, 9, 9, 9, 9], [-1, -1, -1, -1, 0, 96, -1, -1, -1, 89, 96, 92, 93, 95, 96, 96, 93, 92, 91, 69, 69, -1, -1, -1, 37, 37, -1, 96, 94, -1, -1, 90, 96, 88, 95, -1, -1, 78, 78, 90, 71, -1, 88, -1, -1, -1, 72, 95, -1, 96, 91, 92, -1, -1, 96, 92, 82, -1, -1, 70, 70, 84, 74, -1, 64, -1, -1, -1, 74, -1, -1, -1, 95, -1, -1, -1, 95, -1, -1, -1, 95, -1, -1, -1, 95, -1, -1, -1, 95, -1, -1, -1, 92, 92, 89, -1, 96, 90, 89, -1, 95, 96, 96, 95, -1, -1, 96, 96, 68, -1, -1, -1, 95, -1, -1, -1, 96, 96, -1, -1, -1, 95, -1, -1, -1, 95, -1, -1, -1, 94, 88, 88, -1, -1, -1, 95, -1, -1, -1, 95, -1, -1, -1, 96, 96, 96, -1, -1, -1, 95, -1, -1, -1, 95, -1, -1, -1, 95, -1, -1, -1, 95, -1, -1, -1, 41, 80, 93, 96, 87, 16, 16, 59, 93, 94, -1, 54, 95, -1, -1, 56, 15, 96, 95, 96, -1, -1, 16, 86, 71, 58, 96, 90, -1, -1, 49, 68, 84, 84, 93, 94, 93, -1, -1, 55, 55, 96, 84, 90, 96, 95, -1, -1, 96, 93, -1, -1, 95, 95, 77, -1, -1, 96, 96, 74, -1, -1, -1, 66, 96, 95, 94, 79], ['', '', '', '', ',', 'Invoice', '', '', '', 'Your', 'Company', 'LLC', 'Address', '123,', 'State,', 'My', 'Country', 'P', '111-222-333,', 'F', '111-222-334', '', '', '', 'BILL', 'TO:', '', 'John', 'Doe', '', '', 'Alpha', 'Bravo', 'Road', '33', '', '', 'P:', '111-222-338,', 'F:', '111-222-834', '', 'client@example.net', '', '', '', 'SHIPPING', 'TO:', '', 'John', 'Doe', 'Office', '', '', 'Office', 'Road', '38', '', '', 'P:', '111-383-222,', 'F:', '122-222-334', '', 'office@example.net', '', '', '', 'http://mrsinvoice.com', '', '', '', ' ', '', '', '', ' ', '', '', '', ' ', '', '', '', ' ', '', '', '', ' ', '', '', '', 'Invoice', '#', '00001', '', 'Invoice', 'Date', '12/12/2001', '', 'Name', 'of', 'Rep.', 'Bob', '', '', 'Contact', 'Phone', '101-102-103', '', '', '', ' ', '', '', '', 'Payment', 'Terms', '', '', '', ' ', '', '', '', ' ', '', '', '', 'Cash', 'on', 'Delivery', '', '', '', ' ', '', '', '', ' ', '', '', '', 'Amount', 'Due:', '$4,170', '', '', '', ' ', '', '', '', ' ', '', '', '', ' ', '', '', '', ' ', '', '', '', 'NO', 'PRODUCTS', '/', 'SERVICE', 'QUANTITY', '/', 'RATE', '/', 'UNIT', 'AMOUNT', '', 'HOURS', 'PRICE', '', '', '1', 'tye', '2', '$20', '$40', '', '', '2__|', 'Steering', 'Wheel', '5', '$10', '$50', '', '', '3', '|', 'Engine', 'oil', '10', '$15', '$150', '', '', '4', '|', 'Brake', 'Pad', '24', '$1000', '$2,400', '', '', 'Subtotal', '$275', '', '', 'Tax', '(10%)', '$275', '', '', 'Grand', 'Total', '$302.5', '', '', '', '‘THANK', 'YOU', 'FOR', 'YOUR', 'BUSINESS']])\n"
     ]
    }
   ],
   "source": [
    "d = pytesseract.image_to_data(img, output_type=Output.DICT)\n",
    "print(d.keys())\n",
    "print(d.values())\n"
   ]
  },
  {
   "cell_type": "code",
   "execution_count": 6,
   "metadata": {},
   "outputs": [
    {
     "data": {
      "text/plain": [
       "233"
      ]
     },
     "execution_count": 6,
     "metadata": {},
     "output_type": "execute_result"
    }
   ],
   "source": [
    "n_boxes = len(d['text'])\n",
    "n_boxes "
   ]
  },
  {
   "cell_type": "code",
   "execution_count": 33,
   "metadata": {},
   "outputs": [],
   "source": [
    "for i in range(n_boxes):\n",
    "    (x, y, w, h) = (d['left'][i], d['top'][i], d['width'][i], d['height'][i])\n",
    "    img = cv2.rectangle(img, (x, y), (x+w , y+h ), (0, 255, 0),2)\n",
    "    \n"
   ]
  },
  {
   "cell_type": "code",
   "execution_count": 34,
   "metadata": {},
   "outputs": [
    {
     "data": {
      "text/plain": [
       "-1"
      ]
     },
     "execution_count": 34,
     "metadata": {},
     "output_type": "execute_result"
    }
   ],
   "source": [
    "cv2.imshow('img', img)\n",
    "cv2.waitKey(0)"
   ]
  },
  {
   "cell_type": "code",
   "execution_count": null,
   "metadata": {},
   "outputs": [],
   "source": []
  }
 ],
 "metadata": {
  "kernelspec": {
   "display_name": "base",
   "language": "python",
   "name": "python3"
  },
  "language_info": {
   "codemirror_mode": {
    "name": "ipython",
    "version": 3
   },
   "file_extension": ".py",
   "mimetype": "text/x-python",
   "name": "python",
   "nbconvert_exporter": "python",
   "pygments_lexer": "ipython3",
   "version": "3.9.7"
  },
  "orig_nbformat": 4
 },
 "nbformat": 4,
 "nbformat_minor": 2
}
